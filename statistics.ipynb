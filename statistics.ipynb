{
 "cells": [
  {
   "cell_type": "code",
   "execution_count": 2,
   "metadata": {},
   "outputs": [],
   "source": [
    "from typing import final, List, Dict, Final\n",
    "import sys\n",
    "import csv"
   ]
  },
  {
   "cell_type": "code",
   "execution_count": 53,
   "metadata": {},
   "outputs": [],
   "source": [
    "action_file = 'C:/Users/Rsv19/MATRX/experiment_logs/exp_at_time_16h-23m-35s_date_07d-05m-2021y/world_1/actions__2021-05-07_162335.csv'\n",
    "message_file = 'C:/Users/Rsv19/MATRX/experiment_logs/exp_at_time_16h-23m-35s_date_07d-05m-2021y/world_1/messages__2021-05-07_162335.csv'\n",
    "action_header = []\n",
    "action_contents=[]\n",
    "message_header = []\n",
    "message_contents=[]\n",
    "unique_agent_moves = []\n",
    "unique_human_moves = []\n",
    "\n",
    "with open(action_file) as csvfile:\n",
    "    reader = csv.reader(csvfile, delimiter=';', quotechar=\"'\")\n",
    "    for row in reader:\n",
    "        if action_header==[]:\n",
    "            action_header=row\n",
    "            continue\n",
    "        if row[1:3] not in unique_agent_moves:\n",
    "            unique_agent_moves.append(row[1:3])\n",
    "        if row[3:5] not in unique_human_moves:\n",
    "            unique_human_moves.append(row[3:5])\n",
    "        res = {action_header[i]: row[i] for i in range(len(action_header))}\n",
    "        action_contents.append(res)\n",
    "        \n",
    "with open(message_file) as csvfile:\n",
    "    reader = csv.reader(csvfile, delimiter=';', quotechar=\"'\")\n",
    "    for row in reader:\n",
    "        if message_header==[]:\n",
    "            message_header=row\n",
    "            continue\n",
    "        res = {message_header[i]: row[i] for i in range(len(message_header))}\n",
    "        message_contents.append(res)"
   ]
  },
  {
   "cell_type": "code",
   "execution_count": null,
   "metadata": {},
   "outputs": [],
   "source": []
  },
  {
   "cell_type": "code",
   "execution_count": 54,
   "metadata": {},
   "outputs": [
    {
     "data": {
      "text/plain": [
       "'2'"
      ]
     },
     "execution_count": 54,
     "metadata": {},
     "output_type": "execute_result"
    }
   ],
   "source": [
    "no_messages_human = message_contents[-1]['total_number_messages_human']\n",
    "no_messages_human"
   ]
  },
  {
   "cell_type": "code",
   "execution_count": 55,
   "metadata": {},
   "outputs": [
    {
     "data": {
      "text/plain": [
       "'60'"
      ]
     },
     "execution_count": 55,
     "metadata": {},
     "output_type": "execute_result"
    }
   ],
   "source": [
    "no_messages_agent = message_contents[-1]['total_number_messages_agent']\n",
    "no_messages_agent"
   ]
  },
  {
   "cell_type": "code",
   "execution_count": 56,
   "metadata": {},
   "outputs": [
    {
     "data": {
      "text/plain": [
       "'1.0'"
      ]
     },
     "execution_count": 56,
     "metadata": {},
     "output_type": "execute_result"
    }
   ],
   "source": [
    "mssg_len_human = message_contents[-1]['average_message_length_human']\n",
    "mssg_len_human"
   ]
  },
  {
   "cell_type": "code",
   "execution_count": 58,
   "metadata": {},
   "outputs": [
    {
     "data": {
      "text/plain": [
       "'8.33'"
      ]
     },
     "execution_count": 58,
     "metadata": {},
     "output_type": "execute_result"
    }
   ],
   "source": [
    "mssg_len_agent = message_contents[-1]['average_message_length_agent']\n",
    "mssg_len_agent"
   ]
  },
  {
   "cell_type": "code",
   "execution_count": 59,
   "metadata": {},
   "outputs": [
    {
     "data": {
      "text/plain": [
       "(522, 227)"
      ]
     },
     "execution_count": 59,
     "metadata": {},
     "output_type": "execute_result"
    }
   ],
   "source": [
    "len(unique_agent_moves),len(unique_human_moves)"
   ]
  },
  {
   "cell_type": "code",
   "execution_count": 60,
   "metadata": {},
   "outputs": [
    {
     "data": {
      "text/plain": [
       "'2883'"
      ]
     },
     "execution_count": 60,
     "metadata": {},
     "output_type": "execute_result"
    }
   ],
   "source": [
    "no_ticks = action_contents[-1]['tick_nr']\n",
    "no_ticks"
   ]
  },
  {
   "cell_type": "code",
   "execution_count": 61,
   "metadata": {},
   "outputs": [
    {
     "data": {
      "text/plain": [
       "'True'"
      ]
     },
     "execution_count": 61,
     "metadata": {},
     "output_type": "execute_result"
    }
   ],
   "source": [
    "success = action_contents[-1]['done']\n",
    "success"
   ]
  },
  {
   "cell_type": "code",
   "execution_count": null,
   "metadata": {},
   "outputs": [],
   "source": []
  },
  {
   "cell_type": "code",
   "execution_count": 70,
   "metadata": {},
   "outputs": [],
   "source": [
    "with open('C:/Users/Rsv19/MATRX/experiment_logs/exp_at_time_16h-23m-35s_date_07d-05m-2021y/world_1/output.csv',mode='w') as csv_file:\n",
    "    csv_writer = csv.writer(csv_file, delimiter=';', quotechar='\"', quoting=csv.QUOTE_MINIMAL)\n",
    "    \n",
    "    csv_writer.writerow(['completed', 'no_ticks', 'moves_agent', 'moves_human', 'no_messages_agent', 'no_messages_human', 'message_length_agent', 'message_length_human'])\n",
    "    csv_writer.writerow([success,no_ticks,len(unique_agent_moves),len(unique_human_moves),no_messages_agent,no_messages_human,mssg_len_agent,mssg_len_human])\n",
    "    "
   ]
  },
  {
   "cell_type": "code",
   "execution_count": null,
   "metadata": {},
   "outputs": [],
   "source": []
  }
 ],
 "metadata": {
  "kernelspec": {
   "display_name": "Python 3",
   "language": "python",
   "name": "python3"
  },
  "language_info": {
   "codemirror_mode": {
    "name": "ipython",
    "version": 3
   },
   "file_extension": ".py",
   "mimetype": "text/x-python",
   "name": "python",
   "nbconvert_exporter": "python",
   "pygments_lexer": "ipython3",
   "version": "3.8.8"
  }
 },
 "nbformat": 4,
 "nbformat_minor": 4
}
