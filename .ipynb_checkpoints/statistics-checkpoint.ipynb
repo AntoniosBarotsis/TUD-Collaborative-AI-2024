{
 "cells": [
  {
   "cell_type": "code",
   "execution_count": 27,
   "metadata": {},
   "outputs": [],
   "source": [
    "from typing import final, List, Dict, Final\n",
    "import sys\n",
    "import csv\n",
    "import os\n",
    "from pathlib import Path\n",
    "import glob"
   ]
  },
  {
   "cell_type": "code",
   "execution_count": 57,
   "metadata": {},
   "outputs": [],
   "source": [
    "from typing import final, List, Dict, Final\n",
    "import sys\n",
    "import csv\n",
    "import os\n",
    "from pathlib import Path\n",
    "import glob\n",
    "fld = '/home/ruben/Documents/MATRX/MATRX/experiment_logs'\n",
    "recent_dir = max(glob.glob(os.path.join(fld, '*/')), key=os.path.getmtime)\n",
    "action_file = glob.glob(os.path.join(recent_dir,'world_1/action*'))[0]\n",
    "message_file = glob.glob(os.path.join(recent_dir,'world_1/message*'))[0]\n",
    "action_header = []\n",
    "action_contents=[]\n",
    "message_header = []\n",
    "message_contents=[]\n",
    "unique_agent_moves = []\n",
    "unique_human_moves = []\n",
    "dropped_human = []\n",
    "dropped_agent = []\n",
    "drop_zones = ['(1, 23)','(2, 23)','(3, 23)','(4, 23)','(5, 23)','(6, 23)','(7, 23)','(8, 23)']\n",
    "\n",
    "with open(action_file) as csvfile:\n",
    "    reader = csv.reader(csvfile, delimiter=';', quotechar=\"'\")\n",
    "    for row in reader:\n",
    "        if action_header==[]:\n",
    "            action_header=row\n",
    "            continue\n",
    "        if row[1:3] not in unique_agent_moves:\n",
    "            unique_agent_moves.append(row[1:3])\n",
    "        if row[3:5] not in unique_human_moves:\n",
    "            unique_human_moves.append(row[3:5])\n",
    "        if row[1] == 'DropObject' and row[1:3] not in dropped_agent and row[2] in drop_zones:\n",
    "            dropped_agent.append(row[1:3])\n",
    "        if row[3] == 'DropObject' and row[3:5] not in dropped_human and row[4] in drop_zones:\n",
    "            dropped_human.append(row[3:5])\n",
    "        res = {action_header[i]: row[i] for i in range(len(action_header))}\n",
    "        action_contents.append(res)\n",
    "        \n",
    "with open(message_file) as csvfile:\n",
    "    reader = csv.reader(csvfile, delimiter=';', quotechar=\"'\")\n",
    "    for row in reader:\n",
    "        if message_header==[]:\n",
    "            message_header=row\n",
    "            continue\n",
    "        res = {message_header[i]: row[i] for i in range(len(message_header))}\n",
    "        message_contents.append(res)\n",
    "\n",
    "no_messages_human = message_contents[-1]['total_number_messages_human']\n",
    "no_messages_agent = message_contents[-1]['total_number_messages_agent']\n",
    "mssg_len_human = message_contents[-1]['average_message_length_human']\n",
    "mssg_len_agent = message_contents[-1]['average_message_length_agent']\n",
    "no_ticks = action_contents[-1]['tick_nr']\n",
    "success = action_contents[-1]['done']\n",
    "with open(os.path.join(recent_dir,'world_1/output.csv'),mode='w') as csv_file:\n",
    "    csv_writer = csv.writer(csv_file, delimiter=';', quotechar='\"', quoting=csv.QUOTE_MINIMAL)\n",
    "    \n",
    "    csv_writer.writerow(['completed', 'no_ticks', 'moves_agent', 'moves_human', 'no_messages_agent', 'no_messages_human', 'message_length_agent', 'message_length_human'])\n",
    "    csv_writer.writerow([success,no_ticks,len(unique_agent_moves),len(unique_human_moves),no_messages_agent,no_messages_human,mssg_len_agent,mssg_len_human])\n",
    "    "
   ]
  },
  {
   "cell_type": "code",
   "execution_count": 56,
   "metadata": {},
   "outputs": [
    {
     "data": {
      "text/plain": [
       "'/home/ruben/Documents/MATRX/MATRX/experiment_logs/exp_LOW_at_time_23h-08m-54s_date_15d-07m-2021y/world_1/output.csv'"
      ]
     },
     "execution_count": 56,
     "metadata": {},
     "output_type": "execute_result"
    }
   ],
   "source": [
    "os.path.join(recent_dir,'world_1/output.csv')"
   ]
  },
  {
   "cell_type": "code",
   "execution_count": 79,
   "metadata": {},
   "outputs": [],
   "source": [
    "action_file = '/home/ruben/Documents/MATRX/MATRX/experiment_logs/exp_LOW_at_time_21h-30m-27s_date_15d-07m-2021y/world_1/actions__2021-07-15_213028.csv'\n",
    "message_file = '/home/ruben/Documents/MATRX/MATRX/experiment_logs/exp_LOW_at_time_21h-30m-27s_date_15d-07m-2021y/world_1/messages__2021-07-15_213028.csv'\n",
    "action_header = []\n",
    "action_contents=[]\n",
    "message_header = []\n",
    "message_contents=[]\n",
    "unique_agent_moves = []\n",
    "unique_human_moves = []\n",
    "dropped_human = []\n",
    "dropped_agent = []\n",
    "drop_zones = ['(1, 23)','(2, 23)','(3, 23)','(4, 23)','(5, 23)','(6, 23)','(7, 23)','(8, 23)']\n",
    "\n",
    "with open(action_file) as csvfile:\n",
    "    reader = csv.reader(csvfile, delimiter=';', quotechar=\"'\")\n",
    "    for row in reader:\n",
    "        if action_header==[]:\n",
    "            action_header=row\n",
    "            continue\n",
    "        if row[1:3] not in unique_agent_moves:\n",
    "            unique_agent_moves.append(row[1:3])\n",
    "        if row[3:5] not in unique_human_moves:\n",
    "            unique_human_moves.append(row[3:5])\n",
    "        if row[1] == 'DropObject' and row[1:3] not in dropped_agent and row[2] in drop_zones:\n",
    "            dropped_agent.append(row[1:3])\n",
    "        if row[3] == 'DropObject' and row[3:5] not in dropped_human and row[4] in drop_zones:\n",
    "            dropped_human.append(row[3:5])\n",
    "        res = {action_header[i]: row[i] for i in range(len(action_header))}\n",
    "        action_contents.append(res)\n",
    "        \n",
    "with open(message_file) as csvfile:\n",
    "    reader = csv.reader(csvfile, delimiter=';', quotechar=\"'\")\n",
    "    for row in reader:\n",
    "        if message_header==[]:\n",
    "            message_header=row\n",
    "            continue\n",
    "        res = {message_header[i]: row[i] for i in range(len(message_header))}\n",
    "        message_contents.append(res)"
   ]
  },
  {
   "cell_type": "code",
   "execution_count": 80,
   "metadata": {},
   "outputs": [
    {
     "data": {
      "text/plain": [
       "([['DropObject', '(5, 23)'],\n",
       "  ['DropObject', '(6, 23)'],\n",
       "  ['DropObject', '(7, 23)'],\n",
       "  ['DropObject', '(8, 23)'],\n",
       "  ['DropObject', '(3, 23)'],\n",
       "  ['DropObject', '(4, 23)']],\n",
       " [['DropObject', '(1, 23)'], ['DropObject', '(2, 23)']])"
      ]
     },
     "execution_count": 80,
     "metadata": {},
     "output_type": "execute_result"
    }
   ],
   "source": [
    "dropped_human,dropped_agent"
   ]
  },
  {
   "cell_type": "code",
   "execution_count": 74,
   "metadata": {},
   "outputs": [
    {
     "data": {
      "text/plain": [
       "True"
      ]
     },
     "execution_count": 74,
     "metadata": {},
     "output_type": "execute_result"
    }
   ],
   "source": [
    "(1,23) in drop_zones"
   ]
  },
  {
   "cell_type": "code",
   "execution_count": 5,
   "metadata": {},
   "outputs": [
    {
     "data": {
      "text/plain": [
       "'15'"
      ]
     },
     "execution_count": 5,
     "metadata": {},
     "output_type": "execute_result"
    }
   ],
   "source": [
    "no_messages_human = message_contents[-1]['total_number_messages_human']\n",
    "no_messages_human"
   ]
  },
  {
   "cell_type": "code",
   "execution_count": 6,
   "metadata": {},
   "outputs": [
    {
     "data": {
      "text/plain": [
       "'26'"
      ]
     },
     "execution_count": 6,
     "metadata": {},
     "output_type": "execute_result"
    }
   ],
   "source": [
    "no_messages_agent = message_contents[-1]['total_number_messages_agent']\n",
    "no_messages_agent"
   ]
  },
  {
   "cell_type": "code",
   "execution_count": 7,
   "metadata": {},
   "outputs": [
    {
     "data": {
      "text/plain": [
       "'4.47'"
      ]
     },
     "execution_count": 7,
     "metadata": {},
     "output_type": "execute_result"
    }
   ],
   "source": [
    "mssg_len_human = message_contents[-1]['average_message_length_human']\n",
    "mssg_len_human"
   ]
  },
  {
   "cell_type": "code",
   "execution_count": 8,
   "metadata": {},
   "outputs": [
    {
     "data": {
      "text/plain": [
       "'16.73'"
      ]
     },
     "execution_count": 8,
     "metadata": {},
     "output_type": "execute_result"
    }
   ],
   "source": [
    "mssg_len_agent = message_contents[-1]['average_message_length_agent']\n",
    "mssg_len_agent"
   ]
  },
  {
   "cell_type": "code",
   "execution_count": 9,
   "metadata": {},
   "outputs": [
    {
     "data": {
      "text/plain": [
       "(257, 365)"
      ]
     },
     "execution_count": 9,
     "metadata": {},
     "output_type": "execute_result"
    }
   ],
   "source": [
    "len(unique_agent_moves),len(unique_human_moves)"
   ]
  },
  {
   "cell_type": "code",
   "execution_count": 10,
   "metadata": {},
   "outputs": [
    {
     "data": {
      "text/plain": [
       "'7955'"
      ]
     },
     "execution_count": 10,
     "metadata": {},
     "output_type": "execute_result"
    }
   ],
   "source": [
    "no_ticks = action_contents[-1]['tick_nr']\n",
    "no_ticks"
   ]
  },
  {
   "cell_type": "code",
   "execution_count": 11,
   "metadata": {},
   "outputs": [
    {
     "data": {
      "text/plain": [
       "'True'"
      ]
     },
     "execution_count": 11,
     "metadata": {},
     "output_type": "execute_result"
    }
   ],
   "source": [
    "success = action_contents[-1]['done']\n",
    "success"
   ]
  },
  {
   "cell_type": "code",
   "execution_count": null,
   "metadata": {},
   "outputs": [],
   "source": []
  },
  {
   "cell_type": "code",
   "execution_count": 12,
   "metadata": {},
   "outputs": [],
   "source": [
    "with open('/home/ruben/Documents/MATRX/MATRX/experiment_logs/exp_LOW_at_time_21h-30m-27s_date_15d-07m-2021y/world_1/output.csv',mode='w') as csv_file:\n",
    "    csv_writer = csv.writer(csv_file, delimiter=';', quotechar='\"', quoting=csv.QUOTE_MINIMAL)\n",
    "    \n",
    "    csv_writer.writerow(['completed', 'no_ticks', 'moves_agent', 'moves_human', 'no_messages_agent', 'no_messages_human', 'message_length_agent', 'message_length_human'])\n",
    "    csv_writer.writerow([success,no_ticks,len(unique_agent_moves),len(unique_human_moves),no_messages_agent,no_messages_human,mssg_len_agent,mssg_len_human])\n",
    "    "
   ]
  },
  {
   "cell_type": "code",
   "execution_count": null,
   "metadata": {},
   "outputs": [],
   "source": []
  }
 ],
 "metadata": {
  "kernelspec": {
   "display_name": "Python 3",
   "language": "python",
   "name": "python3"
  },
  "language_info": {
   "codemirror_mode": {
    "name": "ipython",
    "version": 3
   },
   "file_extension": ".py",
   "mimetype": "text/x-python",
   "name": "python",
   "nbconvert_exporter": "python",
   "pygments_lexer": "ipython3",
   "version": "3.8.10"
  }
 },
 "nbformat": 4,
 "nbformat_minor": 4
}
